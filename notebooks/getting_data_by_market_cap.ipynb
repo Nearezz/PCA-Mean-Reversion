{
 "cells": [
  {
   "cell_type": "code",
   "execution_count": 2,
   "id": "60f956cc",
   "metadata": {},
   "outputs": [],
   "source": [
    "import ccxt \n",
    "import pandas as pd "
   ]
  },
  {
   "cell_type": "code",
   "execution_count": 3,
   "id": "263c2063",
   "metadata": {},
   "outputs": [],
   "source": [
    "exchange = ccxt.hyperliquid()\n",
    "markets = exchange.load_markets()\n",
    "symbols = exchange.symbols\n",
    "\n",
    "\n"
   ]
  },
  {
   "cell_type": "code",
   "execution_count": null,
   "id": "070b6ab1",
   "metadata": {},
   "outputs": [
    {
     "name": "stdout",
     "output_type": "stream",
     "text": [
      "{'szDecimals': '5', 'name': 'BTC', 'maxLeverage': '40', 'marginTableId': '56', 'funding': '0.0000125', 'openInterest': '29573.11304', 'prevDayPx': '114071.0', 'dayNtlVlm': '2688491109.2208094597', 'premium': '-0.0003730178', 'oraclePx': '115276.0', 'markPx': '115234.0', 'midPx': '115232.5', 'impactPxs': ['115232.0', '115233.0'], 'dayBaseVlm': '23452.73978', 'baseId': 0}\n"
     ]
    }
   ],
   "source": [
    "tickers = exchange.fetch_tickers()\n",
    "sample_ticker = tickers['BTC/USDC:USDC']['info']\n",
    "\n",
    "print(sample_ticker)"
   ]
  },
  {
   "cell_type": "code",
   "execution_count": 5,
   "id": "353dfe45",
   "metadata": {},
   "outputs": [],
   "source": [
    "valid_tickers = [\n",
    "    (symbol, data)\n",
    "    for symbol, data in tickers.items()\n",
    "    if data is not None and data.get('info',{}).get('openInterest') is not None\n",
    "]"
   ]
  },
  {
   "cell_type": "code",
   "execution_count": 6,
   "id": "3f8d8a1f",
   "metadata": {},
   "outputs": [],
   "source": [
    "N = 20\n",
    "sorted_tickers = sorted(valid_tickers,key=lambda x: x[1]['quoteVolume'],reverse=True)\n",
    "top_coins = []\n",
    "\n",
    "for symbol, data in sorted_tickers:\n",
    "    base = symbol.split(\"/\")[0]\n",
    "    top_coins.append(base)\n",
    "    if len(top_coins) == N:\n",
    "        break"
   ]
  },
  {
   "cell_type": "code",
   "execution_count": 7,
   "id": "231b3238",
   "metadata": {},
   "outputs": [
    {
     "name": "stdout",
     "output_type": "stream",
     "text": [
      "['ETH', 'BTC', 'SOL', 'HYPE', 'XRP', 'ENA', 'FARTCOIN', 'PENGU', 'PUMP', 'SUI', 'KBONK', 'TON', 'DOGE', 'CRV', 'AAVE', 'BNB', 'SPX', 'KPEPE', 'LTC', 'VINE']\n"
     ]
    }
   ],
   "source": [
    "print(top_coins)"
   ]
  },
  {
   "cell_type": "code",
   "execution_count": null,
   "id": "5110ed28",
   "metadata": {},
   "outputs": [],
   "source": []
  }
 ],
 "metadata": {
  "kernelspec": {
   "display_name": "eth_sol_pca",
   "language": "python",
   "name": "python3"
  },
  "language_info": {
   "codemirror_mode": {
    "name": "ipython",
    "version": 3
   },
   "file_extension": ".py",
   "mimetype": "text/x-python",
   "name": "python",
   "nbconvert_exporter": "python",
   "pygments_lexer": "ipython3",
   "version": "3.10.18"
  }
 },
 "nbformat": 4,
 "nbformat_minor": 5
}
