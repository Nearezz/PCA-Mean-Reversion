{
 "cells": [
  {
   "cell_type": "code",
   "execution_count": 10,
   "id": "c6fef667",
   "metadata": {},
   "outputs": [],
   "source": [
    "import ccxt \n",
    "import pandas as pd "
   ]
  },
  {
   "cell_type": "code",
   "execution_count": 11,
   "id": "e9456f92",
   "metadata": {},
   "outputs": [
    {
     "name": "stdout",
     "output_type": "stream",
     "text": [
      "10\n"
     ]
    }
   ],
   "source": [
    "exchange = ccxt.hyperliquid()\n",
    "\n",
    "market = exchange.load_markets()\n",
    "\n",
    "\n",
    "\n",
    "symbols = [\n",
    "    \"SOL/USDC:USDC\",\n",
    "    \"ETH/USDC:USDC\",\n",
    "    \"BTC/USDC:USDC\",\n",
    "    \"AVAX/USDC:USDC\",\n",
    "    \"NEAR/USDC:USDC\",\n",
    "    \"OP/USDC:USDC\",\n",
    "    \"ARB/USDC:USDC\",\n",
    "    \"LDO/USDC:USDC\",\n",
    "    \"LINK/USDC:USDC\",\n",
    "    \"AAVE/USDC:USDC\",\n",
    "           \n",
    "           \n",
    "           ]\n",
    "print(len(symbols))\n"
   ]
  },
  {
   "cell_type": "code",
   "execution_count": 12,
   "id": "7769ae3f",
   "metadata": {},
   "outputs": [],
   "source": [
    "import os\n",
    "import pandas as pd\n",
    "\n",
    "timeframe = '4h'\n",
    "limit = 100000\n",
    "\n",
    "save_dir = \"Data/\"\n",
    "os.makedirs(save_dir, exist_ok=True)\n",
    "\n",
    "for symbol in symbols:\n",
    "    ohlcv = exchange.fetch_ohlcv(symbol, timeframe=timeframe, limit=limit)\n",
    "    df = pd.DataFrame(ohlcv, columns=['timestamp', 'open', 'close', 'high', 'low', 'volume'])\n",
    "    df['timestamp'] = pd.to_datetime(df['timestamp'], unit='ms').dt.strftime('%Y-%m-%d %H:%M')\n",
    "\n",
    "\n",
    "    clean_symbol = symbol.replace(':', '_').replace('/', '_')\n",
    "    save_path = os.path.join(save_dir, f\"{clean_symbol}_4h.csv\")\n",
    "\n",
    "    df.to_csv(save_path, index=False)\n",
    "\n"
   ]
  },
  {
   "cell_type": "code",
   "execution_count": null,
   "id": "fbf5b2c8",
   "metadata": {},
   "outputs": [],
   "source": []
  }
 ],
 "metadata": {
  "kernelspec": {
   "display_name": "eth_sol_pca",
   "language": "python",
   "name": "python3"
  },
  "language_info": {
   "codemirror_mode": {
    "name": "ipython",
    "version": 3
   },
   "file_extension": ".py",
   "mimetype": "text/x-python",
   "name": "python",
   "nbconvert_exporter": "python",
   "pygments_lexer": "ipython3",
   "version": "3.10.18"
  }
 },
 "nbformat": 4,
 "nbformat_minor": 5
}
